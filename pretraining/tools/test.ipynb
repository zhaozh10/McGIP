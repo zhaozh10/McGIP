{
 "cells": [
  {
   "cell_type": "code",
   "execution_count": 2,
   "metadata": {
    "pycharm": {
     "name": "#%%\n"
    }
   },
   "outputs": [],
   "source": [
    "import numpy as np\n",
    "import cv2 as cv\n",
    "import matplotlib.pyplot as plt\n",
    "import cmapy"
   ]
  },
  {
   "cell_type": "code",
   "execution_count": 10,
   "metadata": {
    "pycharm": {
     "name": "#%%\n"
    }
   },
   "outputs": [
    {
     "data": {
      "text/plain": "<Figure size 432x288 with 4 Axes>",
      "image/png": "[encoded data removed]"
     },
     "metadata": {},
     "output_type": "display_data"
    }
   ],
   "source": [
    "# def gzread(filename: str, threshold: int = -1) -> np.array:\n",
    "#     '''Read gaze file, which is a three channel 8bit image'''\n",
    "#     raw_gaze = cv.imread(filename)[:,:,0]\n",
    "#     if threshold == -1:\n",
    "#         threshold = np.percentile(raw_gaze,75)\n",
    "#     return (raw_gaze>threshold).astype(np.uint8)\n",
    "\n",
    "def gzread(filename: str, threshold: int = -1) -> np.array:\n",
    "    '''Read gaze file, which is a three channel 8bit image'''\n",
    "    return cv.resize(cv.imread(filename)[:,:,0],(32,32))\n",
    "    # return cv.resize(cv.imread(filename),(32,32))\n",
    "\n",
    "for i in range(1,5):\n",
    "    plt.subplot(1,5,i)\n",
    "    plt.xticks([])\n",
    "    plt.yticks([])\n",
    "    plt.imshow(gzread(f'{i}.jpg',threshold=40))\n",
    "plt.show()"
   ]
  },
  {
   "cell_type": "code",
   "execution_count": 23,
   "outputs": [
    {
     "data": {
      "text/plain": "<Figure size 432x288 with 1 Axes>",
      "image/png": "[encoded data removed]"
     },
     "metadata": {},
     "output_type": "display_data"
    }
   ],
   "source": [
    "fig=plt.figure()\n",
    "ax = fig.gca()\n",
    "ax.grid(False)\n",
    "ax.set_xticks([])\n",
    "ax.set_yticks([])\n",
    "gaze_heat=gzread(f'1.jpg')\n",
    "plt.imshow(gaze_heat,cmap='twilight_shifted')\n",
    "plt.show()"
   ],
   "metadata": {
    "collapsed": false,
    "pycharm": {
     "name": "#%%\n"
    }
   }
  },
  {
   "cell_type": "code",
   "execution_count": 27,
   "outputs": [
    {
     "name": "stdout",
     "output_type": "stream",
     "text": [
      "[[0 0 1 ... 0 0 0]\n",
      " [1 1 1 ... 0 0 0]\n",
      " [2 2 2 ... 0 0 0]\n",
      " ...\n",
      " [0 0 0 ... 0 0 0]\n",
      " [0 0 0 ... 0 0 0]\n",
      " [0 0 0 ... 0 0 0]]\n"
     ]
    }
   ],
   "source": [
    "print(gaze_heat)"
   ],
   "metadata": {
    "collapsed": false,
    "pycharm": {
     "name": "#%%\n"
    }
   }
  },
  {
   "cell_type": "code",
   "execution_count": 44,
   "outputs": [],
   "source": [
    "mask=gaze_heat\n",
    "x_avg,y_avg,res=central_moment(gaze_heat, 0, 0)"
   ],
   "metadata": {
    "collapsed": false,
    "pycharm": {
     "name": "#%%\n"
    }
   }
  },
  {
   "cell_type": "code",
   "execution_count": 45,
   "outputs": [
    {
     "data": {
      "text/plain": "7.445410292072323"
     },
     "execution_count": 45,
     "metadata": {},
     "output_type": "execute_result"
    }
   ],
   "source": [
    "x_avg"
   ],
   "metadata": {
    "collapsed": false,
    "pycharm": {
     "name": "#%%\n"
    }
   }
  },
  {
   "cell_type": "code",
   "execution_count": 46,
   "outputs": [
    {
     "data": {
      "text/plain": "15.340751043115437"
     },
     "execution_count": 46,
     "metadata": {},
     "output_type": "execute_result"
    }
   ],
   "source": [
    "y_avg"
   ],
   "metadata": {
    "collapsed": false,
    "pycharm": {
     "name": "#%%\n"
    }
   }
  },
  {
   "cell_type": "code",
   "execution_count": 67,
   "outputs": [],
   "source": [
    "def image2points(img:np.ndarray):\n",
    "    '''Input a binary mask and output a set of points'''\n",
    "    X = []\n",
    "    Y = []\n",
    "    W, H = img.shape\n",
    "    for i in range(W):\n",
    "        for j in range(H):\n",
    "            if img[i,j] > 0:\n",
    "                X.append(i)\n",
    "                Y.append(j)\n",
    "    return np.array(X), np.array(Y)\n",
    "\n",
    "def visualization_image2points(img:np.ndarray):\n",
    "\n",
    "    fig = plt.figure()\n",
    "    plt.axis('off')\n",
    "    # axs[0].imshow(img)\n",
    "\n",
    "    # W,H = img.shape\n",
    "    # X,Y = image2points(img)\n",
    "    # axs[1].set_ylim((0,W))\n",
    "    # axs[1].set_xlim((0,H))\n",
    "    # axs[1].set_aspect('equal', 'box')\n",
    "    # axs[1].plot(X,Y,'.')\n",
    "    axs=fig.gca()\n",
    "    H,W = img.shape\n",
    "    X,Y = image2points(img)\n",
    "    ax.grid(False)\n",
    "    axs.set_ylim((0,H))\n",
    "    axs.set_xlim((0,W))\n",
    "    axs.set_aspect('equal', 'box')\n",
    "    axs.plot(Y,W-X,'.')\n",
    "    axs.plot(15,32-7,'r.')\n",
    "    ax.grid(False)\n",
    "\n",
    "\n",
    "    plt.show()\n"
   ],
   "metadata": {
    "collapsed": false,
    "pycharm": {
     "name": "#%%\n"
    }
   }
  },
  {
   "cell_type": "code",
   "execution_count": 68,
   "outputs": [
    {
     "data": {
      "text/plain": "<Figure size 432x288 with 1 Axes>",
      "image/png": "[encoded data removed]"
     },
     "metadata": {},
     "output_type": "display_data"
    }
   ],
   "source": [
    "visualization_image2points(np.multiply(gaze_heat,gaze_heat>10))"
   ],
   "metadata": {
    "collapsed": false,
    "pycharm": {
     "name": "#%%\n"
    }
   }
  },
  {
   "cell_type": "code",
   "execution_count": 61,
   "outputs": [],
   "source": [
    "def image2points(img:np.ndarray):\n",
    "    '''Input a binary mask and output a set of points'''\n",
    "    X = []\n",
    "    Y = []\n",
    "    W, H = img.shape\n",
    "    for i in range(W):\n",
    "        for j in range(H):\n",
    "            if img[i,j] > 0:\n",
    "                X.append(i)\n",
    "                Y.append(j)\n",
    "    return np.array(X), np.array(Y)\n",
    "\n",
    "def visualization_image2points(img:np.ndarray):\n",
    "\n",
    "    fig = plt.figure()\n",
    "    # axs[0].imshow(img)\n",
    "\n",
    "    # W,H = img.shape\n",
    "    # X,Y = image2points(img)\n",
    "    # axs[1].set_ylim((0,W))\n",
    "    # axs[1].set_xlim((0,H))\n",
    "    # axs[1].set_aspect('equal', 'box')\n",
    "    # axs[1].plot(X,Y,'.')\n",
    "    axs=fig.gca()\n",
    "    H,W = img.shape\n",
    "    X,Y = image2points(img)\n",
    "    ax.grid(False)\n",
    "    ax.set_xticks([])\n",
    "    ax.set_yticks([])\n",
    "    ax.get_xaxis().set_visible(False)\n",
    "    ax.get_yaxis().set_visible(False)\n",
    "    axs.set_ylim((0,H))\n",
    "    axs.set_xlim((0,W))\n",
    "    axs.set_aspect('equal', 'box')\n",
    "    axs.plot(Y,W-X,'.')\n",
    "    axs.plot(15,32-7,'r.')\n",
    "\n",
    "\n",
    "    plt.show()\n"
   ],
   "metadata": {
    "collapsed": false,
    "pycharm": {
     "name": "#%%\n"
    }
   }
  },
  {
   "cell_type": "code",
   "execution_count": 22,
   "outputs": [
    {
     "data": {
      "text/plain": "<Figure size 432x288 with 2 Axes>",
      "image/png": "[encoded data removed]"
     },
     "metadata": {},
     "output_type": "display_data"
    }
   ],
   "source": [],
   "metadata": {
    "collapsed": false,
    "pycharm": {
     "name": "#%%\n"
    }
   }
  },
  {
   "cell_type": "code",
   "execution_count": 8,
   "outputs": [
    {
     "data": {
      "text/plain": "<matplotlib.image.AxesImage at 0x22adb1c7c18>"
     },
     "execution_count": 8,
     "metadata": {},
     "output_type": "execute_result"
    }
   ],
   "source": [
    "r_heatmap=cv.resize(gaze_heat,(9,8))\n",
    "# plt.show()\n",
    "fig = plt.figure()\n",
    "ax = fig.gca()\n",
    "ax.grid(False)\n",
    "ax.set_xticks([])\n",
    "ax.set_yticks([])\n",
    "plt.imshow(r_heatmap, cmap='magma')"
   ],
   "metadata": {
    "collapsed": false,
    "pycharm": {
     "name": "#%%\n"
    }
   }
  },
  {
   "cell_type": "code",
   "execution_count": 9,
   "outputs": [
    {
     "data": {
      "text/plain": "<Figure size 432x288 with 1 Axes>",
      "image/png": "[encoded data removed]"
     },
     "metadata": {},
     "output_type": "display_data"
    },
    {
     "data": {
      "text/plain": "<Figure size 432x288 with 1 Axes>",
      "image/png": "[encoded data removed]"
     },
     "metadata": {},
     "output_type": "display_data"
    },
    {
     "data": {
      "text/plain": "<Figure size 432x288 with 1 Axes>",
      "image/png": "[encoded data removed]"
     },
     "metadata": {},
     "output_type": "display_data"
    }
   ],
   "source": [
    "plt.show()"
   ],
   "metadata": {
    "collapsed": false,
    "pycharm": {
     "name": "#%%\n"
    }
   }
  },
  {
   "cell_type": "code",
   "execution_count": 18,
   "outputs": [],
   "source": [
    "def dHash(image):\n",
    "    image_new=image\n",
    "    h,w=image.shape\n",
    "    #计算均值\n",
    "    avreage = np.mean(image_new)\n",
    "    hash=[]\n",
    "    h1=np.zeros([1,h*(w-1)])\n",
    "    #每行前一个像素大于后一个像素为1，相反为0，生成哈希\n",
    "    iter=0\n",
    "    for i in range(h):\n",
    "        for j in range(w-1):\n",
    "            if image[i,j]>image[i,j+1]:\n",
    "                h1[0][iter]=1\n",
    "            #     hash.append(1)\n",
    "            # else:\n",
    "            #     hash.append(0)\n",
    "            iter+=1\n",
    "    return h1"
   ],
   "metadata": {
    "collapsed": false,
    "pycharm": {
     "name": "#%%\n"
    }
   }
  },
  {
   "cell_type": "code",
   "execution_count": 20,
   "outputs": [],
   "source": [
    "dcode=dHash(r_heatmap)"
   ],
   "metadata": {
    "collapsed": false,
    "pycharm": {
     "name": "#%%\n"
    }
   }
  },
  {
   "cell_type": "code",
   "execution_count": 22,
   "outputs": [],
   "source": [
    "dcode=dcode.reshape(8,8)"
   ],
   "metadata": {
    "collapsed": false,
    "pycharm": {
     "name": "#%%\n"
    }
   }
  },
  {
   "cell_type": "code",
   "execution_count": 23,
   "outputs": [
    {
     "data": {
      "text/plain": "<matplotlib.image.AxesImage at 0x20e448b0760>"
     },
     "execution_count": 23,
     "metadata": {},
     "output_type": "execute_result"
    },
    {
     "data": {
      "text/plain": "<Figure size 432x288 with 1 Axes>",
      "image/png": "[encoded data removed]"
     },
     "metadata": {},
     "output_type": "display_data"
    }
   ],
   "source": [
    "fig = plt.figure()\n",
    "ax = fig.gca()\n",
    "ax.grid(False)\n",
    "ax.set_xticks([])\n",
    "ax.set_yticks([])\n",
    "plt.imshow(dcode, cmap='magma')"
   ],
   "metadata": {
    "collapsed": false,
    "pycharm": {
     "name": "#%%\n"
    }
   }
  },
  {
   "cell_type": "code",
   "execution_count": 14,
   "metadata": {
    "pycharm": {
     "name": "#%%\n"
    }
   },
   "outputs": [],
   "source": []
  },
  {
   "cell_type": "code",
   "execution_count": 11,
   "metadata": {
    "pycharm": {
     "name": "#%%\n"
    }
   },
   "outputs": [
    {
     "data": {
      "text/plain": "<Figure size 432x288 with 2 Axes>",
      "image/png": "[encoded data removed]"
     },
     "metadata": {
      "needs_background": "light"
     },
     "output_type": "display_data"
    }
   ],
   "source": [
    "mask = cv.imread(\"1.jpg\")[:,:,0]\n",
    "mask = cv.resize(mask, (32,32))\n",
    "# mask.shape\n",
    "# mask = mask>40\n",
    "visualization_image2points(mask)"
   ]
  },
  {
   "cell_type": "code",
   "execution_count": 41,
   "metadata": {
    "pycharm": {
     "name": "#%%\n"
    }
   },
   "outputs": [],
   "source": [
    "def moment(img: np.ndarray, i: int, j: int) -> float:\n",
    "    '''calculate the raw moment M_ij for an image\n",
    "    https://en.wikipedia.org/wiki/Image_moment\n",
    "    Wang Sheng @ 2022_11_04'''\n",
    "    result = 0\n",
    "    for x in range(img.shape[0]):\n",
    "        for y in range(img.shape[1]):\n",
    "            result += (x**i)*(y**j) * img[x, y]\n",
    "    return result\n"
   ]
  },
  {
   "cell_type": "code",
   "execution_count": 42,
   "metadata": {
    "pycharm": {
     "name": "#%%\n"
    }
   },
   "outputs": [],
   "source": [
    "def central_moment(img: np.ndarray, i: int, j: int) -> float:\n",
    "    '''calculate the central moment M_ij for an image'''\n",
    "    M_00 = moment(mask, 0, 0)\n",
    "    M_01 = moment(mask, 0, 1)\n",
    "    M_10 = moment(mask, 1, 0)\n",
    "    X_avg, Y_avg = (M_10/M_00), (M_01/M_00)\n",
    "    result = 0\n",
    "    for x in range(img.shape[0]):\n",
    "        for y in range(img.shape[1]):\n",
    "            if img[x, y]:\n",
    "                result += ((x-X_avg)**i) * ((y-Y_avg)**j) * img[x, y]\n",
    "    return X_avg,Y_avg,result\n"
   ]
  },
  {
   "cell_type": "code",
   "execution_count": 14,
   "metadata": {
    "pycharm": {
     "name": "#%%\n"
    }
   },
   "outputs": [],
   "source": [
    "mu = central_moment\n",
    "M = moment"
   ]
  },
  {
   "cell_type": "code",
   "execution_count": 15,
   "metadata": {
    "pycharm": {
     "name": "#%%\n"
    }
   },
   "outputs": [
    {
     "data": {
      "text/plain": "20132.0"
     },
     "execution_count": 15,
     "metadata": {},
     "output_type": "execute_result"
    }
   ],
   "source": [
    "mu(mask,0,0)"
   ]
  },
  {
   "cell_type": "code",
   "execution_count": 16,
   "metadata": {
    "pycharm": {
     "name": "#%%\n"
    }
   },
   "outputs": [
    {
     "data": {
      "text/plain": "375127.0059109873"
     },
     "execution_count": 16,
     "metadata": {},
     "output_type": "execute_result"
    }
   ],
   "source": [
    "mu(mask,2,0)"
   ]
  },
  {
   "cell_type": "code",
   "execution_count": 17,
   "metadata": {
    "pycharm": {
     "name": "#%%\n"
    }
   },
   "outputs": [
    {
     "data": {
      "text/plain": "261340.4478442283"
     },
     "execution_count": 17,
     "metadata": {},
     "output_type": "execute_result"
    }
   ],
   "source": [
    "mu(mask,0,2)"
   ]
  },
  {
   "cell_type": "code",
   "execution_count": 128,
   "metadata": {
    "pycharm": {
     "name": "#%%\n"
    }
   },
   "outputs": [],
   "source": [
    "def I_1(img):\n",
    "    return mu(img, 2, 0)+mu(img, 0, 2)\n"
   ]
  },
  {
   "cell_type": "code",
   "execution_count": 129,
   "metadata": {
    "pycharm": {
     "name": "#%%\n"
    }
   },
   "outputs": [
    {
     "name": "stdout",
     "output_type": "stream",
     "text": [
      "644065.7396955622\n",
      "644065.7396955617\n"
     ]
    }
   ],
   "source": [
    "print(I_1(mask))\n",
    "mask = cv.rotate(mask.astype(np.uint8),cv.ROTATE_90_CLOCKWISE)\n",
    "print(I_1(mask))"
   ]
  },
  {
   "cell_type": "code",
   "execution_count": 130,
   "metadata": {
    "pycharm": {
     "name": "#%%\n"
    }
   },
   "outputs": [],
   "source": [
    "def G_moment(img):\n",
    "    mu_00 = mu(img, 0, 0)\n",
    "    return mu_00, I_1(img)/(mu_00**2)\n"
   ]
  },
  {
   "cell_type": "code",
   "execution_count": 134,
   "metadata": {
    "pycharm": {
     "name": "#%%\n"
    }
   },
   "outputs": [],
   "source": [
    "gzlist = [gzread(f\"{i}.jpg\") for i in range(1,5)]\n",
    "results = [G_moment(gz) for gz in gzlist]"
   ]
  },
  {
   "cell_type": "code",
   "execution_count": 135,
   "metadata": {
    "pycharm": {
     "name": "#%%\n"
    }
   },
   "outputs": [
    {
     "data": {
      "text/plain": [
       "[(20234.0, 0.00797574638541957),\n",
       " (29779.0, 0.002319066683753023),\n",
       " (12802.0, 0.0107006349622931),\n",
       " (18207.0, 0.007056082432956898)]"
      ]
     },
     "execution_count": 135,
     "metadata": {},
     "output_type": "execute_result"
    }
   ],
   "source": [
    "results"
   ]
  },
  {
   "cell_type": "code",
   "execution_count": 1,
   "metadata": {
    "pycharm": {
     "name": "#%%\n"
    }
   },
   "outputs": [],
   "source": [
    "from gaze_moment import *"
   ]
  },
  {
   "cell_type": "code",
   "execution_count": 3,
   "metadata": {
    "pycharm": {
     "name": "#%%\n"
    }
   },
   "outputs": [
    {
     "data": {
      "text/plain": [
       "[31.830865854282997, 57.59986203525084, 68.78934564419941, 90.32599439878476]"
      ]
     },
     "execution_count": 3,
     "metadata": {},
     "output_type": "execute_result"
    }
   ],
   "source": [
    "[Hu_moment.I_1(gzread(f'{i}.jpg')) for i in range(1,5)]"
   ]
  },
  {
   "cell_type": "code",
   "execution_count": null,
   "metadata": {
    "pycharm": {
     "name": "#%%\n"
    }
   },
   "outputs": [],
   "source": []
  }
 ],
 "metadata": {
  "kernelspec": {
   "display_name": "Python 3.10.4 ('py310')",
   "language": "python",
   "name": "python3"
  },
  "language_info": {
   "codemirror_mode": {
    "name": "ipython",
    "version": 3
   },
   "file_extension": ".py",
   "mimetype": "text/x-python",
   "name": "python",
   "nbconvert_exporter": "python",
   "pygments_lexer": "ipython3",
   "version": "3.10.4"
  },
  "orig_nbformat": 4,
  "vscode": {
   "interpreter": {
    "hash": "a4c8da5b0ab71ccaa99452132c8d96d55eedb38b319f152cd7f566447f34ca52"
   }
  }
 },
 "nbformat": 4,
 "nbformat_minor": 2
}